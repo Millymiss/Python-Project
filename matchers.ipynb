{
 "cells": [
  {
   "cell_type": "code",
   "execution_count": null,
   "metadata": {
    "collapsed": true
   },
   "outputs": [],
   "source": [
    "import cv2\n",
    "import numpy as np \n",
    "\n",
    "class matchers:\n",
    "    def __init__(self):\n",
    "\t\tself.surf = cv2.xfeatures2d.SURF_create()\n",
    "\t\tFLANN_INDEX_KDTREE = 0\n",
    "\t\tindex_params = dict(algorithm=0, trees=5)\n",
    "\t\tsearch_params = dict(checks=50)\n",
    "\t\tself.flann = cv2.FlannBasedMatcher(index_params, search_params)\n",
    "\n",
    "\tdef match(self, i1, i2, direction=None):\n",
    "\t\timageSet1 = self.getSURFFeatures(i1)\n",
    "\t\timageSet2 = self.getSURFFeatures(i2)\n",
    "\t\tprint (\"Direction : \", direction)\n",
    "\t\tmatches = self.flann.knnMatch(\n",
    "\t\t\timageSet2['des'],\n",
    "\t\t\timageSet1['des'],\n",
    "\t\t\tk=2\n",
    "\t\t\t)\n",
    "\t\tgood = []\n",
    "\t\tfor i , (m, n) in enumerate(matches):\n",
    "\t\t\tif m.distance < 0.7*n.distance:\n",
    "\t\t\t\tgood.append((m.trainIdx, m.queryIdx))\n",
    "\n",
    "\t\tif len(good) > 4:\n",
    "\t\t\tpointsCurrent = imageSet2['kp']\n",
    "\t\t\tpointsPrevious = imageSet1['kp']\n",
    "\n",
    "\t\t\tmatchedPointsCurrent = np.float32(\n",
    "\t\t\t\t[pointsCurrent[i].pt for (__, i) in good]\n",
    "\t\t\t)\n",
    "\t\t\tmatchedPointsPrev = np.float32(\n",
    "\t\t\t\t[pointsPrevious[i].pt for (i, __) in good]\n",
    "\t\t\t\t)\n",
    "\n",
    "\t\t\tH, s = cv2.findHomography(matchedPointsCurrent, matchedPointsPrev, cv2.RANSAC, 4)\n",
    "\t\t\treturn H\n",
    "\t\treturn None\n",
    "\n",
    "\tdef getSURFFeatures(self, im):\n",
    "\t\tgray = cv2.cvtColor(im, cv2.COLOR_BGR2GRAY)\n",
    "\t\tkp, des = self.surf.detectAndCompute(gray, None)\n",
    "\t\treturn {'kp':kp, 'des':des}\n"
   ]
  }
 ],
 "metadata": {
  "kernelspec": {
   "display_name": "Python 3",
   "language": "python",
   "name": "python3"
  },
  "language_info": {
   "codemirror_mode": {
    "name": "ipython",
    "version": 3
   },
   "file_extension": ".py",
   "mimetype": "text/x-python",
   "name": "python",
   "nbconvert_exporter": "python",
   "pygments_lexer": "ipython3",
   "version": "3.6.3"
  }
 },
 "nbformat": 4,
 "nbformat_minor": 2
}
